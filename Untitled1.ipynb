{
 "cells": [
  {
   "cell_type": "code",
   "execution_count": 1,
   "id": "a97cad57",
   "metadata": {},
   "outputs": [],
   "source": [
    "import tensorflow as tf\n",
    "import matplotlib.pyplot as plt\n",
    "from packaging import version\n",
    "import sklearn as sk"
   ]
  },
  {
   "cell_type": "code",
   "execution_count": 2,
   "id": "fae28300",
   "metadata": {},
   "outputs": [
    {
     "ename": "NameError",
     "evalue": "name 'X_train' is not defined",
     "output_type": "error",
     "traceback": [
      "\u001b[1;31m---------------------------------------------------------------------------\u001b[0m",
      "\u001b[1;31mNameError\u001b[0m                                 Traceback (most recent call last)",
      "Cell \u001b[1;32mIn[2], line 8\u001b[0m\n\u001b[0;32m      6\u001b[0m index \u001b[38;5;241m=\u001b[39m n_cols \u001b[38;5;241m*\u001b[39m row \u001b[38;5;241m+\u001b[39m col\n\u001b[0;32m      7\u001b[0m plt\u001b[38;5;241m.\u001b[39msubplot(n_rows, n_cols, index \u001b[38;5;241m+\u001b[39m \u001b[38;5;241m1\u001b[39m)\n\u001b[1;32m----> 8\u001b[0m plt\u001b[38;5;241m.\u001b[39mimshow(\u001b[43mX_train\u001b[49m[index], cmap\u001b[38;5;241m=\u001b[39m\u001b[38;5;124m\"\u001b[39m\u001b[38;5;124mbinary\u001b[39m\u001b[38;5;124m\"\u001b[39m, interpolation\u001b[38;5;241m=\u001b[39m\u001b[38;5;124m\"\u001b[39m\u001b[38;5;124mnearest\u001b[39m\u001b[38;5;124m\"\u001b[39m)\n\u001b[0;32m      9\u001b[0m plt\u001b[38;5;241m.\u001b[39maxis(\u001b[38;5;124m'\u001b[39m\u001b[38;5;124moff\u001b[39m\u001b[38;5;124m'\u001b[39m)\n\u001b[0;32m     10\u001b[0m plt\u001b[38;5;241m.\u001b[39mtitle(y_train[index], fontsize\u001b[38;5;241m=\u001b[39m\u001b[38;5;241m12\u001b[39m)\n",
      "\u001b[1;31mNameError\u001b[0m: name 'X_train' is not defined"
     ]
    },
    {
     "data": {
      "image/png": "[encoded data removed]",
      "text/plain": [
       "<Figure size 1200x480 with 1 Axes>"
      ]
     },
     "metadata": {},
     "output_type": "display_data"
    }
   ],
   "source": [
    "n_rows = 4\n",
    "n_cols = 10\n",
    "plt.figure(figsize=(n_cols * 1.2, n_rows * 1.2))\n",
    "for row in range(n_rows):\n",
    "    for col in range(n_cols):\n",
    "        index = n_cols * row + col\n",
    "        plt.subplot(n_rows, n_cols, index + 1)\n",
    "        plt.imshow(X_train[index], cmap=\"binary\", interpolation=\"nearest\")\n",
    "        plt.axis('off')\n",
    "        plt.title(y_train[index], fontsize=12)\n",
    "plt.subplots_adjust(wspace=0.2, hspace=0.5)\n",
    "plt.show()"
   ]
  },
  {
   "cell_type": "code",
   "execution_count": 3,
   "id": "918e0671",
   "metadata": {},
   "outputs": [
    {
     "name": "stdout",
     "output_type": "stream",
     "text": [
      "Model: \"sequential\"\n",
      "_________________________________________________________________\n",
      " Layer (type)                Output Shape              Param #   \n",
      "=================================================================\n",
      " flatten (Flatten)           (None, 784)               0         \n",
      "                                                                 \n",
      " dense (Dense)               (None, 300)               235500    \n",
      "                                                                 \n",
      " dense_1 (Dense)             (None, 100)               30100     \n",
      "                                                                 \n",
      " dense_2 (Dense)             (None, 10)                1010      \n",
      "                                                                 \n",
      "=================================================================\n",
      "Total params: 266,610\n",
      "Trainable params: 266,610\n",
      "Non-trainable params: 0\n",
      "_________________________________________________________________\n"
     ]
    }
   ],
   "source": [
    "tf.random.set_seed(42)\n",
    "\n",
    "model = tf.keras.Sequential([\n",
    "    tf.keras.layers.Flatten(input_shape=[28, 28]),\n",
    "    tf.keras.layers.Dense(300, activation=\"relu\"),\n",
    "    tf.keras.layers.Dense(100, activation=\"relu\"),\n",
    "    tf.keras.layers.Dense(10, activation=\"softmax\")\n",
    "])\n",
    "model.summary()"
   ]
  },
  {
   "cell_type": "code",
   "execution_count": 4,
   "id": "acc5ab55",
   "metadata": {},
   "outputs": [
    {
     "ename": "NameError",
     "evalue": "name 'fetch_california_housing' is not defined",
     "output_type": "error",
     "traceback": [
      "\u001b[1;31m---------------------------------------------------------------------------\u001b[0m",
      "\u001b[1;31mNameError\u001b[0m                                 Traceback (most recent call last)",
      "Cell \u001b[1;32mIn[4], line 3\u001b[0m\n\u001b[0;32m      1\u001b[0m \u001b[38;5;28;01mfrom\u001b[39;00m \u001b[38;5;21;01msklearn\u001b[39;00m\u001b[38;5;21;01m.\u001b[39;00m\u001b[38;5;21;01mpreprocessing\u001b[39;00m \u001b[38;5;28;01mimport\u001b[39;00m StandardScaler\n\u001b[1;32m----> 3\u001b[0m housing \u001b[38;5;241m=\u001b[39m \u001b[43mfetch_california_housing\u001b[49m()\n\u001b[0;32m      4\u001b[0m X_train_full, X_test, y_train_full, y_test \u001b[38;5;241m=\u001b[39m train_test_split(\n\u001b[0;32m      5\u001b[0m     housing\u001b[38;5;241m.\u001b[39mdata, housing\u001b[38;5;241m.\u001b[39mtarget, random_state\u001b[38;5;241m=\u001b[39m\u001b[38;5;241m42\u001b[39m)\n\u001b[0;32m      6\u001b[0m X_train, X_valid, y_train, y_valid \u001b[38;5;241m=\u001b[39m train_test_split(\n\u001b[0;32m      7\u001b[0m     X_train_full, y_train_full, random_state\u001b[38;5;241m=\u001b[39m\u001b[38;5;241m42\u001b[39m)\n",
      "\u001b[1;31mNameError\u001b[0m: name 'fetch_california_housing' is not defined"
     ]
    }
   ],
   "source": [
    "from sklearn.preprocessing import StandardScaler\n",
    "\n",
    "housing = fetch_california_housing()\n",
    "X_train_full, X_test, y_train_full, y_test = train_test_split(\n",
    "    housing.data, housing.target, random_state=42)\n",
    "X_train, X_valid, y_train, y_valid = train_test_split(\n",
    "    X_train_full, y_train_full, random_state=42)\n",
    "\n",
    "scaler = StandardScaler()\n",
    "X_train = scaler.fit_transform(X_train)\n",
    "X_valid = scaler.transform(X_valid)\n",
    "X_test = scaler.transform(X_test)\n"
   ]
  },
  {
   "cell_type": "code",
   "execution_count": 5,
   "id": "f49a49da",
   "metadata": {},
   "outputs": [
    {
     "name": "stdout",
     "output_type": "stream",
     "text": [
      "Epoch 1/20\n",
      "363/363 [==============================] - 2s 4ms/step - loss: 0.9095 - root_mean_squared_error: 0.9537 - val_loss: 0.3847 - val_root_mean_squared_error: 0.6202\n",
      "Epoch 2/20\n",
      "363/363 [==============================] - 1s 4ms/step - loss: 0.3833 - root_mean_squared_error: 0.6191 - val_loss: 1.4130 - val_root_mean_squared_error: 1.1887\n",
      "Epoch 3/20\n",
      "363/363 [==============================] - 1s 4ms/step - loss: 0.3678 - root_mean_squared_error: 0.6064 - val_loss: 0.3211 - val_root_mean_squared_error: 0.5666\n",
      "Epoch 4/20\n",
      "363/363 [==============================] - 1s 4ms/step - loss: 0.3406 - root_mean_squared_error: 0.5836 - val_loss: 0.5523 - val_root_mean_squared_error: 0.7432\n",
      "Epoch 5/20\n",
      "363/363 [==============================] - 1s 4ms/step - loss: 0.3261 - root_mean_squared_error: 0.5710 - val_loss: 0.5361 - val_root_mean_squared_error: 0.7322\n",
      "Epoch 6/20\n",
      "363/363 [==============================] - 1s 4ms/step - loss: 0.3211 - root_mean_squared_error: 0.5666 - val_loss: 0.3597 - val_root_mean_squared_error: 0.5998\n",
      "Epoch 7/20\n",
      "363/363 [==============================] - 1s 4ms/step - loss: 0.3124 - root_mean_squared_error: 0.5589 - val_loss: 0.6728 - val_root_mean_squared_error: 0.8203\n",
      "Epoch 8/20\n",
      "363/363 [==============================] - 1s 4ms/step - loss: 0.3076 - root_mean_squared_error: 0.5546 - val_loss: 1.6132 - val_root_mean_squared_error: 1.2701\n",
      "Epoch 9/20\n",
      "363/363 [==============================] - 1s 4ms/step - loss: 0.3054 - root_mean_squared_error: 0.5526 - val_loss: 3.3026 - val_root_mean_squared_error: 1.8173\n",
      "Epoch 10/20\n",
      "363/363 [==============================] - 1s 4ms/step - loss: 0.3287 - root_mean_squared_error: 0.5733 - val_loss: 0.3475 - val_root_mean_squared_error: 0.5895\n",
      "Epoch 11/20\n",
      "363/363 [==============================] - 1s 4ms/step - loss: 0.2952 - root_mean_squared_error: 0.5433 - val_loss: 0.2935 - val_root_mean_squared_error: 0.5417\n",
      "Epoch 12/20\n",
      "363/363 [==============================] - 1s 4ms/step - loss: 0.2973 - root_mean_squared_error: 0.5453 - val_loss: 0.6717 - val_root_mean_squared_error: 0.8196\n",
      "Epoch 13/20\n",
      "363/363 [==============================] - 1s 4ms/step - loss: 0.2951 - root_mean_squared_error: 0.5432 - val_loss: 0.6410 - val_root_mean_squared_error: 0.8006\n",
      "Epoch 14/20\n",
      "363/363 [==============================] - 1s 4ms/step - loss: 0.2890 - root_mean_squared_error: 0.5376 - val_loss: 0.7688 - val_root_mean_squared_error: 0.8768\n",
      "Epoch 15/20\n",
      "363/363 [==============================] - 1s 4ms/step - loss: 0.2896 - root_mean_squared_error: 0.5381 - val_loss: 0.3363 - val_root_mean_squared_error: 0.5799\n",
      "Epoch 16/20\n",
      "363/363 [==============================] - 1s 4ms/step - loss: 0.2840 - root_mean_squared_error: 0.5330 - val_loss: 0.3837 - val_root_mean_squared_error: 0.6194\n",
      "Epoch 17/20\n",
      "363/363 [==============================] - 1s 4ms/step - loss: 0.2825 - root_mean_squared_error: 0.5315 - val_loss: 0.2835 - val_root_mean_squared_error: 0.5324\n",
      "Epoch 18/20\n",
      "363/363 [==============================] - 1s 4ms/step - loss: 0.2758 - root_mean_squared_error: 0.5251 - val_loss: 0.5061 - val_root_mean_squared_error: 0.7114\n",
      "Epoch 19/20\n",
      "363/363 [==============================] - 1s 4ms/step - loss: 0.2764 - root_mean_squared_error: 0.5258 - val_loss: 0.2895 - val_root_mean_squared_error: 0.5380\n",
      "Epoch 20/20\n",
      "363/363 [==============================] - 1s 4ms/step - loss: 0.2749 - root_mean_squared_error: 0.5243 - val_loss: 0.4833 - val_root_mean_squared_error: 0.6952\n",
      "162/162 [==============================] - 0s 2ms/step - loss: 0.2895 - root_mean_squared_error: 0.5381\n",
      "1/1 [==============================] - 0s 63ms/step\n"
     ]
    }
   ],
   "source": [
    "from sklearn.datasets import fetch_california_housing\n",
    "from sklearn.model_selection import train_test_split \n",
    "\n",
    "data = fetch_california_housing()\n",
    "\n",
    "\n",
    "housing = fetch_california_housing()\n",
    "X_train_full, X_test, y_train_full, y_test = train_test_split(\n",
    "    housing.data, housing.target, random_state=42)\n",
    "X_train, X_valid, y_train, y_valid = train_test_split(\n",
    "    X_train_full, y_train_full, random_state=42)\n",
    "\n",
    "scaler = StandardScaler()\n",
    "X_train = scaler.fit_transform(X_train)\n",
    "X_valid = scaler.transform(X_valid)\n",
    "X_test = scaler.transform(X_test)\n",
    "\n",
    "\n",
    "tf.random.set_seed(42)\n",
    "norm_layer = tf.keras.layers.Normalization(input_shape=X_train.shape[1:])\n",
    "model = tf.keras.Sequential([\n",
    "    norm_layer,\n",
    "    tf.keras.layers.Dense(50, activation=\"relu\"),\n",
    "    tf.keras.layers.Dense(50, activation=\"relu\"),\n",
    "    tf.keras.layers.Dense(50, activation=\"relu\"),\n",
    "    tf.keras.layers.Dense(1)\n",
    "])\n",
    "optimizer = tf.keras.optimizers.Adam(learning_rate=1e-3)\n",
    "model.compile(loss=\"mse\", optimizer=optimizer, metrics=[\"RootMeanSquaredError\"])\n",
    "norm_layer.adapt(X_train)\n",
    "history = model.fit(X_train, y_train, epochs=20,\n",
    "                    validation_data=(X_valid, y_valid))\n",
    "mse_test, rmse_test = model.evaluate(X_test, y_test)\n",
    "X_new = X_test[:3]\n",
    "y_pred = model.predict(X_new)"
   ]
  },
  {
   "cell_type": "code",
   "execution_count": 6,
   "id": "61633eb8",
   "metadata": {},
   "outputs": [
    {
     "data": {
      "image/png": "[encoded data removed]",
      "text/plain": [
       "<Figure size 800x500 with 1 Axes>"
      ]
     },
     "metadata": {},
     "output_type": "display_data"
    }
   ],
   "source": [
    "import matplotlib.pyplot as plt\n",
    "import pandas as pd\n",
    "\n",
    "pd.DataFrame(history.history).plot(\n",
    "    figsize=(8, 5), xlim=[0, 29], ylim=[0, 1], grid=True, xlabel=\"Epoch\",\n",
    "    style=[\"r--\", \"r--.\", \"b-\", \"b-*\"])\n",
    "plt.legend(loc=\"lower left\")\n",
    "plt.show()"
   ]
  },
  {
   "cell_type": "code",
   "execution_count": 7,
   "id": "52e50c8c",
   "metadata": {},
   "outputs": [
    {
     "name": "stdout",
     "output_type": "stream",
     "text": [
      "162/162 [==============================] - 0s 2ms/step - loss: 0.2895 - root_mean_squared_error: 0.5381\n"
     ]
    },
    {
     "data": {
      "text/plain": [
       "[0.28953084349632263, 0.5380806922912598]"
      ]
     },
     "execution_count": 7,
     "metadata": {},
     "output_type": "execute_result"
    }
   ],
   "source": [
    "model.evaluate(X_test, y_test)"
   ]
  },
  {
   "cell_type": "code",
   "execution_count": 8,
   "id": "d81a1ba6",
   "metadata": {},
   "outputs": [
    {
     "name": "stdout",
     "output_type": "stream",
     "text": [
      "Epoch 1/20\n",
      "363/363 [==============================] - 3s 6ms/step - loss: 0.9786 - output_1_loss: 0.7738 - output_2_loss: 2.8214 - output_1_root_mean_squared_error: 0.8797 - output_2_root_mean_squared_error: 1.6797 - val_loss: 6.3016 - val_output_1_loss: 6.6650 - val_output_2_loss: 3.0308 - val_output_1_root_mean_squared_error: 2.5817 - val_output_2_root_mean_squared_error: 1.7409\n",
      "Epoch 2/20\n",
      "363/363 [==============================] - 2s 6ms/step - loss: 0.5756 - output_1_loss: 0.5266 - output_2_loss: 1.0163 - output_1_root_mean_squared_error: 0.7257 - output_2_root_mean_squared_error: 1.0081 - val_loss: 3.4308 - val_output_1_loss: 3.5402 - val_output_2_loss: 2.4464 - val_output_1_root_mean_squared_error: 1.8815 - val_output_2_root_mean_squared_error: 1.5641\n",
      "Epoch 3/20\n",
      "363/363 [==============================] - 2s 6ms/step - loss: 0.5107 - output_1_loss: 0.4708 - output_2_loss: 0.8699 - output_1_root_mean_squared_error: 0.6861 - output_2_root_mean_squared_error: 0.9327 - val_loss: 1.6812 - val_output_1_loss: 1.6665 - val_output_2_loss: 1.8136 - val_output_1_root_mean_squared_error: 1.2909 - val_output_2_root_mean_squared_error: 1.3467\n",
      "Epoch 4/20\n",
      "363/363 [==============================] - 2s 6ms/step - loss: 0.4940 - output_1_loss: 0.4559 - output_2_loss: 0.8375 - output_1_root_mean_squared_error: 0.6752 - output_2_root_mean_squared_error: 0.9152 - val_loss: 1.0444 - val_output_1_loss: 1.0317 - val_output_2_loss: 1.1583 - val_output_1_root_mean_squared_error: 1.0157 - val_output_2_root_mean_squared_error: 1.0763\n",
      "Epoch 5/20\n",
      "363/363 [==============================] - 2s 6ms/step - loss: 0.4946 - output_1_loss: 0.4565 - output_2_loss: 0.8376 - output_1_root_mean_squared_error: 0.6756 - output_2_root_mean_squared_error: 0.9152 - val_loss: 0.5853 - val_output_1_loss: 0.5631 - val_output_2_loss: 0.7856 - val_output_1_root_mean_squared_error: 0.7504 - val_output_2_root_mean_squared_error: 0.8864\n",
      "Epoch 6/20\n",
      "363/363 [==============================] - 2s 6ms/step - loss: 0.4863 - output_1_loss: 0.4482 - output_2_loss: 0.8292 - output_1_root_mean_squared_error: 0.6695 - output_2_root_mean_squared_error: 0.9106 - val_loss: 1.3737 - val_output_1_loss: 1.3577 - val_output_2_loss: 1.5176 - val_output_1_root_mean_squared_error: 1.1652 - val_output_2_root_mean_squared_error: 1.2319\n",
      "Epoch 7/20\n",
      "363/363 [==============================] - 2s 6ms/step - loss: 0.4961 - output_1_loss: 0.4577 - output_2_loss: 0.8422 - output_1_root_mean_squared_error: 0.6765 - output_2_root_mean_squared_error: 0.9177 - val_loss: 1.2674 - val_output_1_loss: 1.2389 - val_output_2_loss: 1.5245 - val_output_1_root_mean_squared_error: 1.1130 - val_output_2_root_mean_squared_error: 1.2347\n",
      "Epoch 8/20\n",
      "363/363 [==============================] - 2s 6ms/step - loss: 0.4938 - output_1_loss: 0.4539 - output_2_loss: 0.8534 - output_1_root_mean_squared_error: 0.6737 - output_2_root_mean_squared_error: 0.9238 - val_loss: 0.4852 - val_output_1_loss: 0.4513 - val_output_2_loss: 0.7901 - val_output_1_root_mean_squared_error: 0.6718 - val_output_2_root_mean_squared_error: 0.8889\n",
      "Epoch 9/20\n",
      "363/363 [==============================] - 2s 6ms/step - loss: 0.4796 - output_1_loss: 0.4410 - output_2_loss: 0.8277 - output_1_root_mean_squared_error: 0.6641 - output_2_root_mean_squared_error: 0.9098 - val_loss: 1.6890 - val_output_1_loss: 1.7382 - val_output_2_loss: 1.2461 - val_output_1_root_mean_squared_error: 1.3184 - val_output_2_root_mean_squared_error: 1.1163\n",
      "Epoch 10/20\n",
      "363/363 [==============================] - 2s 6ms/step - loss: 0.4946 - output_1_loss: 0.4563 - output_2_loss: 0.8398 - output_1_root_mean_squared_error: 0.6755 - output_2_root_mean_squared_error: 0.9164 - val_loss: 1.2872 - val_output_1_loss: 1.2103 - val_output_2_loss: 1.9790 - val_output_1_root_mean_squared_error: 1.1001 - val_output_2_root_mean_squared_error: 1.4068\n",
      "Epoch 11/20\n",
      "363/363 [==============================] - 2s 6ms/step - loss: 0.5113 - output_1_loss: 0.4743 - output_2_loss: 0.8448 - output_1_root_mean_squared_error: 0.6887 - output_2_root_mean_squared_error: 0.9191 - val_loss: 0.5576 - val_output_1_loss: 0.4991 - val_output_2_loss: 1.0835 - val_output_1_root_mean_squared_error: 0.7065 - val_output_2_root_mean_squared_error: 1.0409\n",
      "Epoch 12/20\n",
      "363/363 [==============================] - 2s 6ms/step - loss: 0.4865 - output_1_loss: 0.4492 - output_2_loss: 0.8227 - output_1_root_mean_squared_error: 0.6702 - output_2_root_mean_squared_error: 0.9070 - val_loss: 3.1466 - val_output_1_loss: 3.2823 - val_output_2_loss: 1.9254 - val_output_1_root_mean_squared_error: 1.8117 - val_output_2_root_mean_squared_error: 1.3876\n",
      "Epoch 13/20\n",
      "363/363 [==============================] - 2s 6ms/step - loss: 0.5095 - output_1_loss: 0.4718 - output_2_loss: 0.8480 - output_1_root_mean_squared_error: 0.6869 - output_2_root_mean_squared_error: 0.9209 - val_loss: 0.5159 - val_output_1_loss: 0.4613 - val_output_2_loss: 1.0073 - val_output_1_root_mean_squared_error: 0.6792 - val_output_2_root_mean_squared_error: 1.0036\n",
      "Epoch 14/20\n",
      "363/363 [==============================] - 2s 6ms/step - loss: 0.4771 - output_1_loss: 0.4372 - output_2_loss: 0.8363 - output_1_root_mean_squared_error: 0.6612 - output_2_root_mean_squared_error: 0.9145 - val_loss: 0.5599 - val_output_1_loss: 0.5274 - val_output_2_loss: 0.8522 - val_output_1_root_mean_squared_error: 0.7262 - val_output_2_root_mean_squared_error: 0.9232\n",
      "Epoch 15/20\n",
      "363/363 [==============================] - 2s 6ms/step - loss: 0.4797 - output_1_loss: 0.4397 - output_2_loss: 0.8391 - output_1_root_mean_squared_error: 0.6631 - output_2_root_mean_squared_error: 0.9160 - val_loss: 0.5473 - val_output_1_loss: 0.5082 - val_output_2_loss: 0.8995 - val_output_1_root_mean_squared_error: 0.7129 - val_output_2_root_mean_squared_error: 0.9484\n",
      "Epoch 16/20\n",
      "363/363 [==============================] - 2s 6ms/step - loss: 0.4759 - output_1_loss: 0.4359 - output_2_loss: 0.8353 - output_1_root_mean_squared_error: 0.6603 - output_2_root_mean_squared_error: 0.9140 - val_loss: 0.6828 - val_output_1_loss: 0.6545 - val_output_2_loss: 0.9373 - val_output_1_root_mean_squared_error: 0.8090 - val_output_2_root_mean_squared_error: 0.9682\n",
      "Epoch 17/20\n",
      "363/363 [==============================] - 2s 6ms/step - loss: 0.4838 - output_1_loss: 0.4441 - output_2_loss: 0.8407 - output_1_root_mean_squared_error: 0.6664 - output_2_root_mean_squared_error: 0.9169 - val_loss: 0.4821 - val_output_1_loss: 0.4429 - val_output_2_loss: 0.8345 - val_output_1_root_mean_squared_error: 0.6655 - val_output_2_root_mean_squared_error: 0.9135\n",
      "Epoch 18/20\n",
      "363/363 [==============================] - 2s 6ms/step - loss: 0.4784 - output_1_loss: 0.4388 - output_2_loss: 0.8349 - output_1_root_mean_squared_error: 0.6624 - output_2_root_mean_squared_error: 0.9138 - val_loss: 0.4899 - val_output_1_loss: 0.4556 - val_output_2_loss: 0.7984 - val_output_1_root_mean_squared_error: 0.6750 - val_output_2_root_mean_squared_error: 0.8935\n",
      "Epoch 19/20\n",
      "363/363 [==============================] - 2s 6ms/step - loss: 0.4711 - output_1_loss: 0.4312 - output_2_loss: 0.8301 - output_1_root_mean_squared_error: 0.6566 - output_2_root_mean_squared_error: 0.9111 - val_loss: 1.1026 - val_output_1_loss: 1.0963 - val_output_2_loss: 1.1593 - val_output_1_root_mean_squared_error: 1.0471 - val_output_2_root_mean_squared_error: 1.0767\n",
      "Epoch 20/20\n",
      "363/363 [==============================] - 2s 6ms/step - loss: 0.4785 - output_1_loss: 0.4390 - output_2_loss: 0.8342 - output_1_root_mean_squared_error: 0.6626 - output_2_root_mean_squared_error: 0.9133 - val_loss: 1.0938 - val_output_1_loss: 1.0288 - val_output_2_loss: 1.6786 - val_output_1_root_mean_squared_error: 1.0143 - val_output_2_root_mean_squared_error: 1.2956\n"
     ]
    },
    {
     "data": {
      "text/plain": [
       "<keras.callbacks.History at 0x20dc03c0c10>"
      ]
     },
     "execution_count": 8,
     "metadata": {},
     "output_type": "execute_result"
    }
   ],
   "source": [
    "x_train_deep, x_train_wide = X_train[:,:5], X_train[:,2:]\n",
    "x_valid_deep, x_valid_wide = X_valid[:,:5], X_valid[:,2:]\n",
    "\n",
    "class DeepAndWide(tf.keras.Model):\n",
    "    \n",
    "    def __init__(self, units=30, activation='relu', **kwargs):\n",
    "        \n",
    "        super().__init__(**kwargs)\n",
    "        self.activation = activation\n",
    "        self.units = units\n",
    "        self.norm_layer_deep = tf.keras.layers.Normalization(axis=-1)\n",
    "        self.norm_layer_wide = tf.keras.layers.Normalization(axis=-1)\n",
    "        self.hidden1 = tf.keras.layers.Dense(units, activation=activation)\n",
    "        self.hidden2 = tf.keras.layers.Dense(units, activation=activation)\n",
    "        self.concat = tf.keras.layers.Concatenate()\n",
    "        self.output_ = tf.keras.layers.Dense(1)\n",
    "        self.output_1 = tf.keras.layers.Dense(1)\n",
    "\n",
    "    def call(self, inputs):\n",
    "        \n",
    "        deep_inputs, wide_inputs = inputs\n",
    "        hid1 = self.hidden1(self.norm_layer_deep(deep_inputs))\n",
    "        hid2 = self.hidden2(hid1)\n",
    "        conc = self.concat([self.norm_layer_wide(wide_inputs), hid2])\n",
    "        output = self.output_(conc)\n",
    "        output1 = self.output_1(self.norm_layer_wide(wide_inputs))\n",
    "        return output, output1\n",
    "\n",
    "model = DeepAndWide(40, activation='relu')\n",
    "\n",
    "model.norm_layer_deep.adapt(x_train_deep)\n",
    "model.norm_layer_wide.adapt(x_train_wide)\n",
    "\n",
    "\n",
    "\n",
    "model.compile(loss=['mse', 'mse'], loss_weights=[0.9,0.1] ,optimizer=tf.keras.optimizers.Nadam(learning_rate=0.01, beta_1=0.9, beta_2=0.999), metrics=['RootMeanSquaredError'])\n",
    "\n",
    "model.fit((x_train_deep, x_train_wide), (y_train, y_train), epochs=20, validation_data=((x_valid_deep, x_valid_wide), (y_valid, y_valid)))"
   ]
  },
  {
   "cell_type": "code",
   "execution_count": 9,
   "id": "c74dac1f",
   "metadata": {},
   "outputs": [
    {
     "name": "stdout",
     "output_type": "stream",
     "text": [
      "Epoch 1/20\n",
      "363/363 [==============================] - 3s 6ms/step - loss: 0.9521 - output_1_loss: 0.7596 - output_2_loss: 2.6847 - output_1_root_mean_squared_error: 0.8716 - output_2_root_mean_squared_error: 1.6385 - val_loss: 7.5666 - val_output_1_loss: 5.9910 - val_output_2_loss: 21.7475 - val_output_1_root_mean_squared_error: 2.4476 - val_output_2_root_mean_squared_error: 4.6634\n",
      "Epoch 2/20\n",
      "363/363 [==============================] - 2s 6ms/step - loss: 0.5795 - output_1_loss: 0.5296 - output_2_loss: 1.0279 - output_1_root_mean_squared_error: 0.7278 - output_2_root_mean_squared_error: 1.0139 - val_loss: 4.1397 - val_output_1_loss: 3.1101 - val_output_2_loss: 13.4058 - val_output_1_root_mean_squared_error: 1.7636 - val_output_2_root_mean_squared_error: 3.6614\n",
      "Epoch 3/20\n",
      "363/363 [==============================] - 2s 6ms/step - loss: 0.5109 - output_1_loss: 0.4665 - output_2_loss: 0.9109 - output_1_root_mean_squared_error: 0.6830 - output_2_root_mean_squared_error: 0.9544 - val_loss: 2.0785 - val_output_1_loss: 1.5015 - val_output_2_loss: 7.2713 - val_output_1_root_mean_squared_error: 1.2253 - val_output_2_root_mean_squared_error: 2.6965\n",
      "Epoch 4/20\n",
      "363/363 [==============================] - 2s 6ms/step - loss: 0.4938 - output_1_loss: 0.4535 - output_2_loss: 0.8570 - output_1_root_mean_squared_error: 0.6734 - output_2_root_mean_squared_error: 0.9257 - val_loss: 1.2433 - val_output_1_loss: 0.9819 - val_output_2_loss: 3.5966 - val_output_1_root_mean_squared_error: 0.9909 - val_output_2_root_mean_squared_error: 1.8965\n",
      "Epoch 5/20\n",
      "363/363 [==============================] - 2s 6ms/step - loss: 0.4945 - output_1_loss: 0.4561 - output_2_loss: 0.8396 - output_1_root_mean_squared_error: 0.6754 - output_2_root_mean_squared_error: 0.9163 - val_loss: 0.6612 - val_output_1_loss: 0.5416 - val_output_2_loss: 1.7373 - val_output_1_root_mean_squared_error: 0.7359 - val_output_2_root_mean_squared_error: 1.3181\n",
      "Epoch 6/20\n",
      "363/363 [==============================] - 2s 6ms/step - loss: 0.4833 - output_1_loss: 0.4447 - output_2_loss: 0.8309 - output_1_root_mean_squared_error: 0.6668 - output_2_root_mean_squared_error: 0.9115 - val_loss: 1.2613 - val_output_1_loss: 1.2234 - val_output_2_loss: 1.6025 - val_output_1_root_mean_squared_error: 1.1061 - val_output_2_root_mean_squared_error: 1.2659\n",
      "Epoch 7/20\n",
      "363/363 [==============================] - 2s 6ms/step - loss: 0.4969 - output_1_loss: 0.4593 - output_2_loss: 0.8354 - output_1_root_mean_squared_error: 0.6777 - output_2_root_mean_squared_error: 0.9140 - val_loss: 1.1996 - val_output_1_loss: 1.1549 - val_output_2_loss: 1.6014 - val_output_1_root_mean_squared_error: 1.0747 - val_output_2_root_mean_squared_error: 1.2655\n",
      "Epoch 8/20\n",
      "363/363 [==============================] - 2s 6ms/step - loss: 0.4876 - output_1_loss: 0.4484 - output_2_loss: 0.8409 - output_1_root_mean_squared_error: 0.6696 - output_2_root_mean_squared_error: 0.9170 - val_loss: 0.4996 - val_output_1_loss: 0.4552 - val_output_2_loss: 0.8984 - val_output_1_root_mean_squared_error: 0.6747 - val_output_2_root_mean_squared_error: 0.9478\n",
      "Epoch 9/20\n",
      "363/363 [==============================] - 2s 6ms/step - loss: 0.4744 - output_1_loss: 0.4353 - output_2_loss: 0.8271 - output_1_root_mean_squared_error: 0.6597 - output_2_root_mean_squared_error: 0.9094 - val_loss: 1.3348 - val_output_1_loss: 1.3490 - val_output_2_loss: 1.2065 - val_output_1_root_mean_squared_error: 1.1615 - val_output_2_root_mean_squared_error: 1.0984\n",
      "Epoch 10/20\n",
      "363/363 [==============================] - 2s 6ms/step - loss: 0.4819 - output_1_loss: 0.4424 - output_2_loss: 0.8378 - output_1_root_mean_squared_error: 0.6651 - output_2_root_mean_squared_error: 0.9153 - val_loss: 1.4284 - val_output_1_loss: 1.3869 - val_output_2_loss: 1.8022 - val_output_1_root_mean_squared_error: 1.1777 - val_output_2_root_mean_squared_error: 1.3425\n",
      "Epoch 11/20\n",
      "363/363 [==============================] - 2s 6ms/step - loss: 0.4914 - output_1_loss: 0.4532 - output_2_loss: 0.8352 - output_1_root_mean_squared_error: 0.6732 - output_2_root_mean_squared_error: 0.9139 - val_loss: 0.5449 - val_output_1_loss: 0.4904 - val_output_2_loss: 1.0352 - val_output_1_root_mean_squared_error: 0.7003 - val_output_2_root_mean_squared_error: 1.0175\n",
      "Epoch 12/20\n",
      "363/363 [==============================] - 2s 6ms/step - loss: 0.4772 - output_1_loss: 0.4388 - output_2_loss: 0.8226 - output_1_root_mean_squared_error: 0.6624 - output_2_root_mean_squared_error: 0.9070 - val_loss: 2.5149 - val_output_1_loss: 2.5840 - val_output_2_loss: 1.8932 - val_output_1_root_mean_squared_error: 1.6075 - val_output_2_root_mean_squared_error: 1.3759\n",
      "Epoch 13/20\n",
      "363/363 [==============================] - 2s 6ms/step - loss: 0.4929 - output_1_loss: 0.4536 - output_2_loss: 0.8473 - output_1_root_mean_squared_error: 0.6735 - output_2_root_mean_squared_error: 0.9205 - val_loss: 0.5155 - val_output_1_loss: 0.4599 - val_output_2_loss: 1.0161 - val_output_1_root_mean_squared_error: 0.6781 - val_output_2_root_mean_squared_error: 1.0080\n",
      "Epoch 14/20\n",
      "363/363 [==============================] - 2s 6ms/step - loss: 0.4710 - output_1_loss: 0.4304 - output_2_loss: 0.8362 - output_1_root_mean_squared_error: 0.6561 - output_2_root_mean_squared_error: 0.9144 - val_loss: 0.7458 - val_output_1_loss: 0.7337 - val_output_2_loss: 0.8551 - val_output_1_root_mean_squared_error: 0.8566 - val_output_2_root_mean_squared_error: 0.9247\n",
      "Epoch 15/20\n",
      "363/363 [==============================] - 2s 6ms/step - loss: 0.4775 - output_1_loss: 0.4374 - output_2_loss: 0.8390 - output_1_root_mean_squared_error: 0.6613 - output_2_root_mean_squared_error: 0.9160 - val_loss: 0.7051 - val_output_1_loss: 0.6833 - val_output_2_loss: 0.9016 - val_output_1_root_mean_squared_error: 0.8266 - val_output_2_root_mean_squared_error: 0.9495\n",
      "Epoch 16/20\n",
      "363/363 [==============================] - 2s 6ms/step - loss: 0.4704 - output_1_loss: 0.4299 - output_2_loss: 0.8353 - output_1_root_mean_squared_error: 0.6557 - output_2_root_mean_squared_error: 0.9139 - val_loss: 0.8440 - val_output_1_loss: 0.8334 - val_output_2_loss: 0.9391 - val_output_1_root_mean_squared_error: 0.9129 - val_output_2_root_mean_squared_error: 0.9691\n",
      "Epoch 17/20\n",
      "363/363 [==============================] - 2s 6ms/step - loss: 0.4779 - output_1_loss: 0.4376 - output_2_loss: 0.8406 - output_1_root_mean_squared_error: 0.6615 - output_2_root_mean_squared_error: 0.9169 - val_loss: 0.5419 - val_output_1_loss: 0.5093 - val_output_2_loss: 0.8356 - val_output_1_root_mean_squared_error: 0.7136 - val_output_2_root_mean_squared_error: 0.9141\n",
      "Epoch 18/20\n",
      "363/363 [==============================] - 2s 6ms/step - loss: 0.4745 - output_1_loss: 0.4345 - output_2_loss: 0.8349 - output_1_root_mean_squared_error: 0.6592 - output_2_root_mean_squared_error: 0.9137 - val_loss: 0.4727 - val_output_1_loss: 0.4366 - val_output_2_loss: 0.7979 - val_output_1_root_mean_squared_error: 0.6607 - val_output_2_root_mean_squared_error: 0.8933\n",
      "Epoch 19/20\n",
      "363/363 [==============================] - 2s 6ms/step - loss: 0.4636 - output_1_loss: 0.4229 - output_2_loss: 0.8301 - output_1_root_mean_squared_error: 0.6503 - output_2_root_mean_squared_error: 0.9111 - val_loss: 2.5613 - val_output_1_loss: 2.7171 - val_output_2_loss: 1.1588 - val_output_1_root_mean_squared_error: 1.6484 - val_output_2_root_mean_squared_error: 1.0765\n",
      "Epoch 20/20\n",
      "363/363 [==============================] - 2s 6ms/step - loss: 0.4850 - output_1_loss: 0.4462 - output_2_loss: 0.8342 - output_1_root_mean_squared_error: 0.6680 - output_2_root_mean_squared_error: 0.9133 - val_loss: 0.8156 - val_output_1_loss: 0.7197 - val_output_2_loss: 1.6788 - val_output_1_root_mean_squared_error: 0.8484 - val_output_2_root_mean_squared_error: 1.2957\n"
     ]
    }
   ],
   "source": [
    "tf.random.set_seed(42)\n",
    "model = DeepAndWide(40, activation='relu')\n",
    "\n",
    "model.norm_layer_deep.adapt(x_train_deep)\n",
    "model.norm_layer_wide.adapt(x_train_wide)\n",
    "\n",
    "model.compile(loss=['mse', 'mse'], loss_weights=[0.9,0.1] ,optimizer=tf.keras.optimizers.Nadam(learning_rate=0.01, beta_1=0.9, beta_2=0.999), metrics=['RootMeanSquaredError'])\n",
    "\n",
    "vi = model.fit((x_train_deep, x_train_wide), (y_train, y_train), epochs=20, validation_data=((x_valid_deep, x_valid_wide), (y_valid, y_valid)))\n"
   ]
  },
  {
   "cell_type": "code",
   "execution_count": 10,
   "id": "30f9c43e",
   "metadata": {},
   "outputs": [],
   "source": [
    "from pathlib import Path\n",
    "from time import strftime\n",
    "import os\n",
    "\n",
    "root_logdir = os.path.join(os.curdir, \"my_logs\")\n",
    "def get_run_logdir():\n",
    "    import time\n",
    "    run_id = time.strftime(\"run_%Y_%m_%d-%H_%M_%S\")\n",
    "    return os.path.join(root_logdir, run_id)"
   ]
  },
  {
   "cell_type": "code",
   "execution_count": 12,
   "id": "03406d77",
   "metadata": {},
   "outputs": [],
   "source": [
    "(X_train_full, y_train_full), (X_test, y_test) = tf.keras.datasets.mnist.load_data()"
   ]
  },
  {
   "cell_type": "code",
   "execution_count": 13,
   "id": "56fc4a2c",
   "metadata": {},
   "outputs": [],
   "source": [
    "X_valid, X_train = X_train_full[:5000] / 255., X_train_full[5000:] / 255.\n",
    "y_valid, y_train = y_train_full[:5000], y_train_full[5000:]\n",
    "X_test = X_test / 255."
   ]
  },
  {
   "cell_type": "code",
   "execution_count": 14,
   "id": "ee033261",
   "metadata": {},
   "outputs": [],
   "source": [
    "import numpy as np\n",
    "\n",
    "tf.keras.backend.clear_session()\n",
    "np.random.seed(42)\n",
    "tf.random.set_seed(42)"
   ]
  },
  {
   "cell_type": "code",
   "execution_count": null,
   "id": "6d019bda",
   "metadata": {},
   "outputs": [],
   "source": [
    "def build_model(n_neurons=30, activation='relu', n_layers=3, learning_rate = 3e-3 ,input_shape=[8] ):\n",
    "    model = tf.keras.Sequential()  # Corrected the casing\n",
    "    model.add(tf.keras.layers.Flatten(input_shape=input_shape))\n",
    "    model.add(tf.keras.layers.Normalization())\n",
    "    for _ in range(n_layers): \n",
    "        model.add(tf.keras.layers.Dense(n_neurons, activation=activation)) \n",
    "    model.add(tf.keras.layers.Dense(1, activation='softmax')) \n",
    "    optimizer=tf.keras.optimizers.SGD(learning_rate=learning_rate)\n",
    "    model.compile(loss='mse', optimizer=optimizer, metrics=[tf.keras.metrics.RootMeanSquaredError()])\n",
    "    return model\n",
    "\n",
    "keras_reg = tf.keras.wrappers.scikit_learn.KerasRegressor(build_model)\n",
    "\n",
    "keras_reg.fit(X_train, y_train, epochs=100,\n",
    "              validation_data=(X_valid, y_valid),\n",
    "              callbacks=[tf.keras.callbacks.EarlyStopping(patience=10)])\n"
   ]
  },
  {
   "cell_type": "code",
   "execution_count": null,
   "id": "42cc0de5",
   "metadata": {},
   "outputs": [],
   "source": [
    "model_checkpoint = tf.keras.models.checkpoint('ui', restore_weights_only=True)\n",
    "tensorboard = tf.kera.callback.TensorBoard(run_logdir2)\n",
    "earlyst=tf.keras.callbacks.EarlyStopping(patience=0.5)\n"
   ]
  },
  {
   "cell_type": "code",
   "execution_count": 15,
   "id": "872733ec",
   "metadata": {},
   "outputs": [
    {
     "name": "stdout",
     "output_type": "stream",
     "text": [
      "Epoch 1/100\n",
      "1719/1719 [==============================] - 5s 2ms/step - loss: 0.2360 - accuracy: 0.9270 - val_loss: 0.1104 - val_accuracy: 0.9682\n",
      "Epoch 2/100\n",
      "1719/1719 [==============================] - 4s 2ms/step - loss: 0.0959 - accuracy: 0.9707 - val_loss: 0.1032 - val_accuracy: 0.9708\n",
      "Epoch 3/100\n",
      "1719/1719 [==============================] - 4s 2ms/step - loss: 0.0680 - accuracy: 0.9788 - val_loss: 0.0789 - val_accuracy: 0.9764\n",
      "Epoch 4/100\n",
      "1719/1719 [==============================] - 4s 2ms/step - loss: 0.0495 - accuracy: 0.9842 - val_loss: 0.0674 - val_accuracy: 0.9824\n",
      "Epoch 5/100\n",
      "1719/1719 [==============================] - 4s 2ms/step - loss: 0.0380 - accuracy: 0.9876 - val_loss: 0.0808 - val_accuracy: 0.9788\n",
      "Epoch 6/100\n",
      "1719/1719 [==============================] - 4s 2ms/step - loss: 0.0322 - accuracy: 0.9894 - val_loss: 0.0875 - val_accuracy: 0.9768\n",
      "Epoch 7/100\n",
      "1719/1719 [==============================] - 4s 2ms/step - loss: 0.0244 - accuracy: 0.9923 - val_loss: 0.0743 - val_accuracy: 0.9816\n",
      "Epoch 8/100\n",
      "1719/1719 [==============================] - 4s 2ms/step - loss: 0.0180 - accuracy: 0.9939 - val_loss: 0.0807 - val_accuracy: 0.9800\n",
      "Epoch 9/100\n",
      "1719/1719 [==============================] - 4s 2ms/step - loss: 0.0140 - accuracy: 0.9953 - val_loss: 0.1041 - val_accuracy: 0.9788\n",
      "Epoch 10/100\n",
      "1719/1719 [==============================] - 4s 2ms/step - loss: 0.0150 - accuracy: 0.9950 - val_loss: 0.0811 - val_accuracy: 0.9818\n",
      "Epoch 11/100\n",
      "1719/1719 [==============================] - 4s 2ms/step - loss: 0.0100 - accuracy: 0.9967 - val_loss: 0.0847 - val_accuracy: 0.9828\n",
      "Epoch 12/100\n",
      "1719/1719 [==============================] - 4s 2ms/step - loss: 0.0090 - accuracy: 0.9969 - val_loss: 0.0828 - val_accuracy: 0.9824\n",
      "Epoch 13/100\n",
      "1719/1719 [==============================] - 4s 2ms/step - loss: 0.0070 - accuracy: 0.9977 - val_loss: 0.0928 - val_accuracy: 0.9794\n",
      "Epoch 14/100\n",
      "1719/1719 [==============================] - 4s 2ms/step - loss: 0.0065 - accuracy: 0.9978 - val_loss: 0.0864 - val_accuracy: 0.9818\n",
      "Epoch 15/100\n",
      "1719/1719 [==============================] - 4s 2ms/step - loss: 0.0075 - accuracy: 0.9976 - val_loss: 0.0805 - val_accuracy: 0.9840\n",
      "Epoch 16/100\n",
      "1719/1719 [==============================] - 4s 2ms/step - loss: 0.0106 - accuracy: 0.9967 - val_loss: 0.1116 - val_accuracy: 0.9800\n",
      "Epoch 17/100\n",
      "1719/1719 [==============================] - 4s 2ms/step - loss: 0.0105 - accuracy: 0.9967 - val_loss: 0.1028 - val_accuracy: 0.9804\n",
      "Epoch 18/100\n",
      "1719/1719 [==============================] - 4s 2ms/step - loss: 0.0066 - accuracy: 0.9978 - val_loss: 0.1361 - val_accuracy: 0.9770\n",
      "Epoch 19/100\n",
      "1719/1719 [==============================] - 4s 2ms/step - loss: 0.0123 - accuracy: 0.9963 - val_loss: 0.1213 - val_accuracy: 0.9796\n",
      "Epoch 20/100\n",
      "1719/1719 [==============================] - 4s 3ms/step - loss: 0.0126 - accuracy: 0.9961 - val_loss: 0.1016 - val_accuracy: 0.9796\n",
      "Epoch 21/100\n",
      "1719/1719 [==============================] - 4s 3ms/step - loss: 0.0050 - accuracy: 0.9984 - val_loss: 0.0991 - val_accuracy: 0.9836\n",
      "Epoch 22/100\n",
      "1719/1719 [==============================] - 4s 2ms/step - loss: 0.0067 - accuracy: 0.9978 - val_loss: 0.1254 - val_accuracy: 0.9776\n",
      "Epoch 23/100\n",
      "1719/1719 [==============================] - 4s 2ms/step - loss: 0.0063 - accuracy: 0.9982 - val_loss: 0.1057 - val_accuracy: 0.9824\n",
      "Epoch 24/100\n",
      "1719/1719 [==============================] - 4s 2ms/step - loss: 0.0020 - accuracy: 0.9994 - val_loss: 0.0937 - val_accuracy: 0.9854\n"
     ]
    }
   ],
   "source": [
    "import numpy as np\n",
    "tf.keras.backend.clear_session()\n",
    "np.random.seed(42)\n",
    "tf.random.set_seed(42)\n",
    "model = tf.keras.models.Sequential([\n",
    "    tf.keras.layers.Flatten(input_shape=[28, 28]),\n",
    "    tf.keras.layers.Dense(300, activation=\"relu\"),\n",
    "    tf.keras.layers.Dense(100, activation=\"relu\"),\n",
    "    tf.keras.layers.Dense(10, activation=\"softmax\")\n",
    "])\n",
    "model.compile(loss=\"sparse_categorical_crossentropy\",\n",
    "              optimizer=tf.keras.optimizers.SGD(learning_rate=3e-1),\n",
    "              metrics=[\"accuracy\"])\n",
    "\n",
    "run_index = 1 # increment this at every run\n",
    "run_logdir = os.path.join(os.curdir, \"my_mnist_logs\", \"run_{:03d}\".format(run_index))\n",
    "run_logdir\n",
    "\n",
    "early_stopping_cb = tf.keras.callbacks.EarlyStopping(patience=20)\n",
    "checkpoint_cb = tf.keras.callbacks.ModelCheckpoint(\"my_mnist_model.h5\", save_best_only=True)\n",
    "tensorboard_cb = tf.keras.callbacks.TensorBoard(run_logdir)\n",
    "\n",
    "history = model.fit(X_train, y_train, epochs=100,\n",
    "                    validation_data=(X_valid, y_valid),\n",
    "                    callbacks=[checkpoint_cb, early_stopping_cb, tensorboard_cb])\n",
    "\n"
   ]
  },
  {
   "cell_type": "code",
   "execution_count": 16,
   "id": "f38ddd39",
   "metadata": {},
   "outputs": [
    {
     "name": "stdout",
     "output_type": "stream",
     "text": [
      "313/313 [==============================] - 1s 2ms/step - loss: 0.0728 - accuracy: 0.9786\n"
     ]
    },
    {
     "data": {
      "text/plain": [
       "[0.07277204841375351, 0.9785999655723572]"
      ]
     },
     "execution_count": 16,
     "metadata": {},
     "output_type": "execute_result"
    }
   ],
   "source": [
    "model = tf.keras.models.load_model(\"my_mnist_model.h5\") # rollback to best model\n",
    "model.evaluate(X_test, y_test)"
   ]
  },
  {
   "cell_type": "code",
   "execution_count": 17,
   "id": "1bcee7de",
   "metadata": {},
   "outputs": [
    {
     "name": "stderr",
     "output_type": "stream",
     "text": [
      "UsageError: Line magic function `%tensorboard` not found.\n"
     ]
    }
   ],
   "source": [
    "\n",
    "%tensorboard --logdir=./my_mnist_logs --port=6006"
   ]
  },
  {
   "cell_type": "code",
   "execution_count": null,
   "id": "db36410d",
   "metadata": {},
   "outputs": [],
   "source": []
  }
 ],
 "metadata": {
  "kernelspec": {
   "display_name": "Python 3 (ipykernel)",
   "language": "python",
   "name": "python3"
  },
  "language_info": {
   "codemirror_mode": {
    "name": "ipython",
    "version": 3
   },
   "file_extension": ".py",
   "mimetype": "text/x-python",
   "name": "python",
   "nbconvert_exporter": "python",
   "pygments_lexer": "ipython3",
   "version": "3.9.13"
  }
 },
 "nbformat": 4,
 "nbformat_minor": 5
}
